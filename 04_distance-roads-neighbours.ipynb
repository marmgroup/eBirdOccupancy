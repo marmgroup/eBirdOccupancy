{
 "metadata": {
  "language_info": {
   "codemirror_mode": {
    "name": "ipython",
    "version": 3
   },
   "file_extension": ".py",
   "mimetype": "text/x-python",
   "name": "python",
   "nbconvert_exporter": "python",
   "pygments_lexer": "ipython3",
   "version": "3.7.3"
  },
  "orig_nbformat": 4,
  "kernelspec": {
   "name": "python3",
   "display_name": "Python 3.7.3 64-bit"
  },
  "interpreter": {
   "hash": "f893a9faae035602c2e3a6ab3b3c72d9aa7d7047400354953a5f776193f49816"
  }
 },
 "nbformat": 4,
 "nbformat_minor": 2,
 "cells": [
  {
   "source": [
    "# Prepare Nearest Neighbour and Road Metrics\n",
    "\n",
    "The goal of this section is to determine how far each checklist location is from the nearest road, and how far each site is from its nearest neighbour. This involves finding the pairwise distance between a large number of unique checklist locations to a vast number of roads, as well as to each other.\n",
    "\n",
    "This section is implemented in Python 3, because we want to use `scipy`'s efficient spatial indexing functions based on \"kDtrees\"."
   ],
   "cell_type": "markdown",
   "metadata": {}
  },
  {
   "source": [
    "## Prepare libraries\n",
    "\n",
    "Here, we import required libraries --- you may need to install these for your system."
   ],
   "cell_type": "markdown",
   "metadata": {}
  },
  {
   "cell_type": "code",
   "execution_count": 1,
   "metadata": {},
   "outputs": [],
   "source": [
    "# import basic python libs\n",
    "import itertools\n",
    "from operator import itemgetter\n",
    "import numpy as np\n",
    "import matplotlib.pyplot as plt\n",
    "import math\n",
    "\n",
    "# libs for dataframes\n",
    "import pandas as pd\n",
    "\n",
    "# import libs for geodata\n",
    "from shapely.ops import nearest_points\n",
    "import geopandas as gpd\n",
    "\n",
    "# import ckdtree\n",
    "from scipy.spatial import cKDTree\n",
    "from shapely.geometry import Point, MultiPoint, LineString, MultiLineString"
   ]
  },
  {
   "source": [
    "## Prepare data for processing\n",
    "\n",
    "First we read in the roads shapefile, which is obtained from the Open Street Map database.\n",
    "Then we read in the checklist covariates, and extract the unique coordinate pairs.\n",
    "All data are reprojected to be in the UTM 43N coordinate system.\n",
    "\n",
    "We define a custom Python function to separate multi-feature geometries (here, roads which are in parts) into single feature geometries.\n",
    "Then we define a function to use the K-dimensional trees method from `scipy` to find the distance between two geometries, here, the distance between the locations and the nearest road.\n",
    "We define another function to find the distance between checklist locations and all other checklist locations.\n",
    "\n",
    "We use these functions to find the distance between each checklist location and the nearest road and the next nearest site."
   ],
   "cell_type": "markdown",
   "metadata": {}
  },
  {
   "source": [
    "## Read in data\n",
    "\n",
    "Here we read in the data and convert it to a spatial format."
   ],
   "cell_type": "markdown",
   "metadata": {}
  },
  {
   "cell_type": "code",
   "execution_count": 4,
   "metadata": {},
   "outputs": [
    {
     "output_type": "execute_result",
     "data": {
      "text/plain": [
       "     osm_id  code   fclass                                               name  \\\n",
       "0  22836641  5113  primary                                               None   \n",
       "1  22837034  5113  primary                                               None   \n",
       "2  22837101  5113  primary  Mettur - Palakkanuthu - Oddanchatram - Palani ...   \n",
       "3  22837285  5113  primary                        Udumalpet - Dharapuram Road   \n",
       "4  28085536  5113  primary                          Pollachi - Valaparai Road   \n",
       "\n",
       "      ref oneway  maxspeed  layer bridge tunnel  \\\n",
       "0  SH 100      B         0      0      F      F   \n",
       "1  SH 100      B         0      0      F      F   \n",
       "2    SH37      B         0      0      F      F   \n",
       "3    SH87      B         0      0      F      F   \n",
       "4    SH78      B         0      0      F      F   \n",
       "\n",
       "                                            geometry  \n",
       "0  LINESTRING (77.2836076 9.8963634, 77.2840655 9...  \n",
       "1  LINESTRING (77.2836076 9.8963634, 77.2843069 9...  \n",
       "2  LINESTRING (77.8362994 10.3714312, 77.83305 10...  \n",
       "3  (LINESTRING (77.2473354 10.5877812, 77.2481291...  \n",
       "4  LINESTRING (76.99275579429218 10.5246287923549...  "
      ],
      "text/html": "<div>\n<style scoped>\n    .dataframe tbody tr th:only-of-type {\n        vertical-align: middle;\n    }\n\n    .dataframe tbody tr th {\n        vertical-align: top;\n    }\n\n    .dataframe thead th {\n        text-align: right;\n    }\n</style>\n<table border=\"1\" class=\"dataframe\">\n  <thead>\n    <tr style=\"text-align: right;\">\n      <th></th>\n      <th>osm_id</th>\n      <th>code</th>\n      <th>fclass</th>\n      <th>name</th>\n      <th>ref</th>\n      <th>oneway</th>\n      <th>maxspeed</th>\n      <th>layer</th>\n      <th>bridge</th>\n      <th>tunnel</th>\n      <th>geometry</th>\n    </tr>\n  </thead>\n  <tbody>\n    <tr>\n      <th>0</th>\n      <td>22836641</td>\n      <td>5113</td>\n      <td>primary</td>\n      <td>None</td>\n      <td>SH 100</td>\n      <td>B</td>\n      <td>0</td>\n      <td>0</td>\n      <td>F</td>\n      <td>F</td>\n      <td>LINESTRING (77.2836076 9.8963634, 77.2840655 9...</td>\n    </tr>\n    <tr>\n      <th>1</th>\n      <td>22837034</td>\n      <td>5113</td>\n      <td>primary</td>\n      <td>None</td>\n      <td>SH 100</td>\n      <td>B</td>\n      <td>0</td>\n      <td>0</td>\n      <td>F</td>\n      <td>F</td>\n      <td>LINESTRING (77.2836076 9.8963634, 77.2843069 9...</td>\n    </tr>\n    <tr>\n      <th>2</th>\n      <td>22837101</td>\n      <td>5113</td>\n      <td>primary</td>\n      <td>Mettur - Palakkanuthu - Oddanchatram - Palani ...</td>\n      <td>SH37</td>\n      <td>B</td>\n      <td>0</td>\n      <td>0</td>\n      <td>F</td>\n      <td>F</td>\n      <td>LINESTRING (77.8362994 10.3714312, 77.83305 10...</td>\n    </tr>\n    <tr>\n      <th>3</th>\n      <td>22837285</td>\n      <td>5113</td>\n      <td>primary</td>\n      <td>Udumalpet - Dharapuram Road</td>\n      <td>SH87</td>\n      <td>B</td>\n      <td>0</td>\n      <td>0</td>\n      <td>F</td>\n      <td>F</td>\n      <td>(LINESTRING (77.2473354 10.5877812, 77.2481291...</td>\n    </tr>\n    <tr>\n      <th>4</th>\n      <td>28085536</td>\n      <td>5113</td>\n      <td>primary</td>\n      <td>Pollachi - Valaparai Road</td>\n      <td>SH78</td>\n      <td>B</td>\n      <td>0</td>\n      <td>0</td>\n      <td>F</td>\n      <td>F</td>\n      <td>LINESTRING (76.99275579429218 10.5246287923549...</td>\n    </tr>\n  </tbody>\n</table>\n</div>"
     },
     "metadata": {},
     "execution_count": 4
    }
   ],
   "source": [
    "# read in roads shapefile\n",
    "roads = gpd.read_file(\"data/spatial/roads_studysite_2019/roads_studysite_2019.shp\")\n",
    "roads.head()"
   ]
  },
  {
   "cell_type": "code",
   "execution_count": 5,
   "metadata": {},
   "outputs": [],
   "source": [
    "# read in checklist covariates for conversion to gpd\n",
    "# get unique coordinates, assign them to the df\n",
    "# convert df to geo-df\n",
    "chkCovars = pd.read_csv(\"data/03_data-covars-perChklist.csv\")\n",
    "unique_locs = chkCovars.drop_duplicates(subset=['longitude',\n",
    "                                         'latitude'])[['longitude', 'latitude']]\n",
    "unique_locs['coordId'] = np.arange(1, unique_locs.shape[0]+1)\n",
    "chkCovars = chkCovars.merge(unique_locs, on=['longitude', 'latitude'])\n",
    "\n",
    "unique_locs = gpd.GeoDataFrame(\n",
    "unique_locs, \n",
    "geometry = gpd.points_from_xy(unique_locs.longitude, unique_locs.latitude))\n",
    "unique_locs.crs = {'init' :'epsg:4326'}\n",
    "\n",
    "# reproject spatials to 43n epsg 32643\n",
    "\n",
    "roads = roads.to_crs({'init': 'epsg:32643'})\n",
    "unique_locs = unique_locs.to_crs({'init': 'epsg:32643'})"
   ]
  },
  {
   "source": [
    "## Define functions for geometry simplication and distances"
   ],
   "cell_type": "markdown",
   "metadata": {}
  },
  {
   "cell_type": "code",
   "execution_count": 10,
   "metadata": {},
   "outputs": [],
   "source": [
    "# function to simplify multilinestrings\n",
    "def simplify_roads(complex_roads):\n",
    "    simpleRoads = []\n",
    "    for i in range(len(complex_roads.geometry)):\n",
    "        feature = complex_roads.geometry.iloc[i]\n",
    "        if feature.geom_type == \"LineString\":\n",
    "            simpleRoads.append(feature)\n",
    "        elif feature.geom_type == \"MultiLineString\":\n",
    "            for road_level2 in feature:\n",
    "                simpleRoads.append(road_level2)\n",
    "    return simpleRoads\n",
    "\n",
    "# function to use ckdtrees to find the nearest road\n",
    "def ckdnearest(gdfA, gdfB):\n",
    "    A = np.concatenate(\n",
    "    [np.array(geom.coords) for geom in gdfA.geometry.to_list()])\n",
    "    simplified_features = simplify_roads(gdfB)\n",
    "    B = [np.array(geom.coords) for geom in simplified_features]\n",
    "    B = np.concatenate(B)\n",
    "    ckd_tree = cKDTree(B)\n",
    "    dist, idx = ckd_tree.query(A, k=1)\n",
    "    return dist\n",
    "\n",
    "# function to use ckdtrees for nearest other checklist point\n",
    "def ckdnearest_point(gdfA, gdfB):\n",
    "    A = np.concatenate(\n",
    "    [np.array(geom.coords) for geom in gdfA.geometry.to_list()])\n",
    "    #simplified_features = simplify_roads(gdfB)\n",
    "    B = np.concatenate(\n",
    "    [np.array(geom.coords) for geom in gdfB.geometry.to_list()])\n",
    "    #B = np.concatenate(B)\n",
    "    ckd_tree = cKDTree(B)\n",
    "    dist, idx = ckd_tree.query(A, k=[2])\n",
    "    return dist\n"
   ]
  },
  {
   "source": [
    "## Get distance from sites to road and each other"
   ],
   "cell_type": "markdown",
   "metadata": {}
  },
  {
   "cell_type": "code",
   "execution_count": 11,
   "metadata": {},
   "outputs": [],
   "source": [
    "# get distance to nearest road\n",
    "unique_locs['dist_road'] = ckdnearest(unique_locs, roads)\n",
    "\n",
    "# get distance to nearest other site\n",
    "unique_locs['nnb'] = ckdnearest_point(unique_locs, unique_locs)"
   ]
  },
  {
   "cell_type": "code",
   "execution_count": 12,
   "metadata": {},
   "outputs": [
    {
     "output_type": "execute_result",
     "data": {
      "text/plain": [
       "   longitude   latitude  coordId                                     geometry  \\\n",
       "0  76.702143  10.113145        1    POINT (686508.28186578 1118408.844255172)   \n",
       "4  76.675240  10.114907        2    POINT (683558.60505246 1118588.472478238)   \n",
       "5  76.703636  10.198078        3  POINT (686622.5638861903 1127804.143241186)   \n",
       "6  76.688492  10.129665        4  POINT (685002.5640544752 1120228.262773657)   \n",
       "7  76.754587  10.127357        5  POINT (692247.8524644603 1120011.292357425)   \n",
       "\n",
       "     dist_road         nnb  \n",
       "0    84.694420   62.056791  \n",
       "4    12.223700   17.834490  \n",
       "5  1525.199913  454.326667  \n",
       "6    12.719120   15.374284  \n",
       "7    32.038815  126.510762  "
      ],
      "text/html": "<div>\n<style scoped>\n    .dataframe tbody tr th:only-of-type {\n        vertical-align: middle;\n    }\n\n    .dataframe tbody tr th {\n        vertical-align: top;\n    }\n\n    .dataframe thead th {\n        text-align: right;\n    }\n</style>\n<table border=\"1\" class=\"dataframe\">\n  <thead>\n    <tr style=\"text-align: right;\">\n      <th></th>\n      <th>longitude</th>\n      <th>latitude</th>\n      <th>coordId</th>\n      <th>geometry</th>\n      <th>dist_road</th>\n      <th>nnb</th>\n    </tr>\n  </thead>\n  <tbody>\n    <tr>\n      <th>0</th>\n      <td>76.702143</td>\n      <td>10.113145</td>\n      <td>1</td>\n      <td>POINT (686508.28186578 1118408.844255172)</td>\n      <td>84.694420</td>\n      <td>62.056791</td>\n    </tr>\n    <tr>\n      <th>4</th>\n      <td>76.675240</td>\n      <td>10.114907</td>\n      <td>2</td>\n      <td>POINT (683558.60505246 1118588.472478238)</td>\n      <td>12.223700</td>\n      <td>17.834490</td>\n    </tr>\n    <tr>\n      <th>5</th>\n      <td>76.703636</td>\n      <td>10.198078</td>\n      <td>3</td>\n      <td>POINT (686622.5638861903 1127804.143241186)</td>\n      <td>1525.199913</td>\n      <td>454.326667</td>\n    </tr>\n    <tr>\n      <th>6</th>\n      <td>76.688492</td>\n      <td>10.129665</td>\n      <td>4</td>\n      <td>POINT (685002.5640544752 1120228.262773657)</td>\n      <td>12.719120</td>\n      <td>15.374284</td>\n    </tr>\n    <tr>\n      <th>7</th>\n      <td>76.754587</td>\n      <td>10.127357</td>\n      <td>5</td>\n      <td>POINT (692247.8524644603 1120011.292357425)</td>\n      <td>32.038815</td>\n      <td>126.510762</td>\n    </tr>\n  </tbody>\n</table>\n</div>"
     },
     "metadata": {},
     "execution_count": 12
    }
   ],
   "source": [
    "# check for added columns\n",
    "unique_locs.head()"
   ]
  },
  {
   "cell_type": "code",
   "execution_count": 13,
   "metadata": {},
   "outputs": [],
   "source": [
    "# write to file\n",
    "unique_locs = pd.DataFrame(unique_locs.drop(columns='geometry'))\n",
    "unique_locs['dist_road'] = unique_locs['dist_road']\n",
    "unique_locs['nnb'] = unique_locs['nnb']\n",
    "unique_locs.to_csv(path_or_buf = \"data/locs_dist_to_road.csv\", index=False)\n",
    "\n",
    "# merge unique locs with chkCovars\n",
    "chkCovars = chkCovars.merge(unique_locs, on=['latitude', 'longitude', 'coordId'])"
   ]
  },
  {
   "cell_type": "code",
   "execution_count": 14,
   "metadata": {},
   "outputs": [
    {
     "output_type": "execute_result",
     "data": {
      "text/plain": [
       "                    locality locality_id   latitude  longitude    observer  \\\n",
       "0  Thattekkad--Hornbill Camp    L3203937  10.113145  76.702143  obsr205067   \n",
       "1  Thattekkad--Hornbill Camp    L3203937  10.113145  76.702143  obsr205067   \n",
       "2  Thattekkad--Hornbill Camp    L3203937  10.113145  76.702143  obsr205067   \n",
       "3  Thattekkad--Hornbill Camp    L3203937  10.113145  76.702143  obsr205067   \n",
       "4                  Kalappara    L3314786  10.114907  76.675240  obsr205067   \n",
       "\n",
       "         sei  duration  distance  area  nObs  decimalTime  julianDate  year  \\\n",
       "0  S20847497        90     0.805   NaN     1        12.75          26  2013   \n",
       "1  S21522912        20     0.805   NaN     1         8.00          27  2013   \n",
       "2  S20847495        90     1.609   NaN     1        12.75          24  2013   \n",
       "3  S20847496        90     0.805   NaN     1        12.50          25  2013   \n",
       "4  S21522775        90     0.402   NaN     7         6.25          27  2013   \n",
       "\n",
       "   nSp  nSoi  landcover  newjulianDate  coordId  dist_road        nnb  \n",
       "0    9     9          2             57        1   84.69442  62.056791  \n",
       "1   10    10          2             58        1   84.69442  62.056791  \n",
       "2    6     6          2             55        1   84.69442  62.056791  \n",
       "3    4     4          2             56        1   84.69442  62.056791  \n",
       "4    7     7          5             58        2   12.22370  17.834490  "
      ],
      "text/html": "<div>\n<style scoped>\n    .dataframe tbody tr th:only-of-type {\n        vertical-align: middle;\n    }\n\n    .dataframe tbody tr th {\n        vertical-align: top;\n    }\n\n    .dataframe thead th {\n        text-align: right;\n    }\n</style>\n<table border=\"1\" class=\"dataframe\">\n  <thead>\n    <tr style=\"text-align: right;\">\n      <th></th>\n      <th>locality</th>\n      <th>locality_id</th>\n      <th>latitude</th>\n      <th>longitude</th>\n      <th>observer</th>\n      <th>sei</th>\n      <th>duration</th>\n      <th>distance</th>\n      <th>area</th>\n      <th>nObs</th>\n      <th>decimalTime</th>\n      <th>julianDate</th>\n      <th>year</th>\n      <th>nSp</th>\n      <th>nSoi</th>\n      <th>landcover</th>\n      <th>newjulianDate</th>\n      <th>coordId</th>\n      <th>dist_road</th>\n      <th>nnb</th>\n    </tr>\n  </thead>\n  <tbody>\n    <tr>\n      <th>0</th>\n      <td>Thattekkad--Hornbill Camp</td>\n      <td>L3203937</td>\n      <td>10.113145</td>\n      <td>76.702143</td>\n      <td>obsr205067</td>\n      <td>S20847497</td>\n      <td>90</td>\n      <td>0.805</td>\n      <td>NaN</td>\n      <td>1</td>\n      <td>12.75</td>\n      <td>26</td>\n      <td>2013</td>\n      <td>9</td>\n      <td>9</td>\n      <td>2</td>\n      <td>57</td>\n      <td>1</td>\n      <td>84.69442</td>\n      <td>62.056791</td>\n    </tr>\n    <tr>\n      <th>1</th>\n      <td>Thattekkad--Hornbill Camp</td>\n      <td>L3203937</td>\n      <td>10.113145</td>\n      <td>76.702143</td>\n      <td>obsr205067</td>\n      <td>S21522912</td>\n      <td>20</td>\n      <td>0.805</td>\n      <td>NaN</td>\n      <td>1</td>\n      <td>8.00</td>\n      <td>27</td>\n      <td>2013</td>\n      <td>10</td>\n      <td>10</td>\n      <td>2</td>\n      <td>58</td>\n      <td>1</td>\n      <td>84.69442</td>\n      <td>62.056791</td>\n    </tr>\n    <tr>\n      <th>2</th>\n      <td>Thattekkad--Hornbill Camp</td>\n      <td>L3203937</td>\n      <td>10.113145</td>\n      <td>76.702143</td>\n      <td>obsr205067</td>\n      <td>S20847495</td>\n      <td>90</td>\n      <td>1.609</td>\n      <td>NaN</td>\n      <td>1</td>\n      <td>12.75</td>\n      <td>24</td>\n      <td>2013</td>\n      <td>6</td>\n      <td>6</td>\n      <td>2</td>\n      <td>55</td>\n      <td>1</td>\n      <td>84.69442</td>\n      <td>62.056791</td>\n    </tr>\n    <tr>\n      <th>3</th>\n      <td>Thattekkad--Hornbill Camp</td>\n      <td>L3203937</td>\n      <td>10.113145</td>\n      <td>76.702143</td>\n      <td>obsr205067</td>\n      <td>S20847496</td>\n      <td>90</td>\n      <td>0.805</td>\n      <td>NaN</td>\n      <td>1</td>\n      <td>12.50</td>\n      <td>25</td>\n      <td>2013</td>\n      <td>4</td>\n      <td>4</td>\n      <td>2</td>\n      <td>56</td>\n      <td>1</td>\n      <td>84.69442</td>\n      <td>62.056791</td>\n    </tr>\n    <tr>\n      <th>4</th>\n      <td>Kalappara</td>\n      <td>L3314786</td>\n      <td>10.114907</td>\n      <td>76.675240</td>\n      <td>obsr205067</td>\n      <td>S21522775</td>\n      <td>90</td>\n      <td>0.402</td>\n      <td>NaN</td>\n      <td>7</td>\n      <td>6.25</td>\n      <td>27</td>\n      <td>2013</td>\n      <td>7</td>\n      <td>7</td>\n      <td>5</td>\n      <td>58</td>\n      <td>2</td>\n      <td>12.22370</td>\n      <td>17.834490</td>\n    </tr>\n  </tbody>\n</table>\n</div>"
     },
     "metadata": {},
     "execution_count": 14
    }
   ],
   "source": [
    "# check that metrics have been added to the data\n",
    "chkCovars.head()"
   ]
  },
  {
   "source": [
    "# save data to local file\n",
    "# overwrite pre-existing data\n",
    "chkCovars.to_csv(\"data/03_data-covars-perChklist.csv\")"
   ],
   "cell_type": "code",
   "metadata": {},
   "execution_count": 15,
   "outputs": []
  }
 ]
}